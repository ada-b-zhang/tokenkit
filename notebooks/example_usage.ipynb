{
 "cells": [
  {
   "cell_type": "markdown",
   "metadata": {},
   "source": [
    "<div style=\"background-color: #d1a8ed; color: black; border: 5px solid #9038b5; padding: 10px;\">\n",
    "  <h1>About</h1>\n",
    "    This is an example usage of <a href=\"https://pypi.org/project/tokenkit/\" target=\"_blank\">TokenKit</a>\n",
    "</div>"
   ]
  },
  {
   "cell_type": "markdown",
   "metadata": {},
   "source": [
    "#\n",
    "<div class=\"alert alert-block alert-warning\"  \n",
    "     style=\"background-color: #d1a8ed; color: black; border: 5px solid #9038b5; padding: 10px;\">  \n",
    "  <h1>Import</h1>\n",
    "</div>"
   ]
  },
  {
   "cell_type": "code",
   "execution_count": 1,
   "metadata": {},
   "outputs": [
    {
     "name": "stderr",
     "output_type": "stream",
     "text": [
      "/opt/anaconda3/envs/bill_gates/lib/python3.10/site-packages/tqdm/auto.py:21: TqdmWarning: IProgress not found. Please update jupyter and ipywidgets. See https://ipywidgets.readthedocs.io/en/stable/user_install.html\n",
      "  from .autonotebook import tqdm as notebook_tqdm\n"
     ]
    }
   ],
   "source": [
    "from transformers import AutoTokenizer\n",
    "from datasets import load_dataset\n",
    "import pandas as pd\n",
    "from tqdm import tqdm\n",
    "\n",
    "from tokenkit import *"
   ]
  },
  {
   "cell_type": "markdown",
   "metadata": {},
   "source": [
    "#\n",
    "<div class=\"alert alert-block alert-warning\"  \n",
    "     style=\"background-color: #d1a8ed; color: black; border: 5px solid #9038b5; padding: 10px;\">  \n",
    "  <h1>Try on Dataset</h1>\n",
    "</div>"
   ]
  },
  {
   "cell_type": "markdown",
   "metadata": {},
   "source": [
    "# Preprocess data\n",
    "FLORES+ dataset: [HERE](https://huggingface.co/datasets/openlanguagedata/flores_plus)"
   ]
  },
  {
   "cell_type": "code",
   "execution_count": 2,
   "metadata": {},
   "outputs": [
    {
     "name": "stdout",
     "output_type": "stream",
     "text": [
      "(218343, 12)\n"
     ]
    },
    {
     "data": {
      "text/html": [
       "<div>\n",
       "<style scoped>\n",
       "    .dataframe tbody tr th:only-of-type {\n",
       "        vertical-align: middle;\n",
       "    }\n",
       "\n",
       "    .dataframe tbody tr th {\n",
       "        vertical-align: top;\n",
       "    }\n",
       "\n",
       "    .dataframe thead th {\n",
       "        text-align: right;\n",
       "    }\n",
       "</style>\n",
       "<table border=\"1\" class=\"dataframe\">\n",
       "  <thead>\n",
       "    <tr style=\"text-align: right;\">\n",
       "      <th></th>\n",
       "      <th>index</th>\n",
       "      <th>id</th>\n",
       "      <th>iso_639_3</th>\n",
       "      <th>language</th>\n",
       "      <th>glottocode</th>\n",
       "      <th>text</th>\n",
       "      <th>url</th>\n",
       "      <th>domain</th>\n",
       "      <th>topic</th>\n",
       "      <th>has_image</th>\n",
       "      <th>has_hyperlink</th>\n",
       "      <th>last_updated</th>\n",
       "    </tr>\n",
       "  </thead>\n",
       "  <tbody>\n",
       "    <tr>\n",
       "      <th>0</th>\n",
       "      <td>0</td>\n",
       "      <td>0</td>\n",
       "      <td>ace</td>\n",
       "      <td>Arab</td>\n",
       "      <td>achi1257</td>\n",
       "      <td>يق أورو سنين، اوق علمون دري فکولتس کدوکترن يون...</td>\n",
       "      <td>https://en.wikinews.org/wiki/Scientists_say_ne...</td>\n",
       "      <td>wikinews</td>\n",
       "      <td>health</td>\n",
       "      <td>yes</td>\n",
       "      <td>yes</td>\n",
       "      <td>1.0</td>\n",
       "    </tr>\n",
       "    <tr>\n",
       "      <th>1</th>\n",
       "      <td>1</td>\n",
       "      <td>1</td>\n",
       "      <td>ace</td>\n",
       "      <td>Arab</td>\n",
       "      <td>achi1257</td>\n",
       "      <td>ڤنليتي اوتام خن اترا ڽو موڠکين محسى ديتيکسي فو...</td>\n",
       "      <td>https://en.wikinews.org/wiki/Scientists_say_ne...</td>\n",
       "      <td>wikinews</td>\n",
       "      <td>health</td>\n",
       "      <td>yes</td>\n",
       "      <td>yes</td>\n",
       "      <td>1.0</td>\n",
       "    </tr>\n",
       "  </tbody>\n",
       "</table>\n",
       "</div>"
      ],
      "text/plain": [
       "   index  id iso_639_3 language glottocode  \\\n",
       "0      0   0       ace     Arab   achi1257   \n",
       "1      1   1       ace     Arab   achi1257   \n",
       "\n",
       "                                                text  \\\n",
       "0  يق أورو سنين، اوق علمون دري فکولتس کدوکترن يون...   \n",
       "1  ڤنليتي اوتام خن اترا ڽو موڠکين محسى ديتيکسي فو...   \n",
       "\n",
       "                                                 url    domain   topic  \\\n",
       "0  https://en.wikinews.org/wiki/Scientists_say_ne...  wikinews  health   \n",
       "1  https://en.wikinews.org/wiki/Scientists_say_ne...  wikinews  health   \n",
       "\n",
       "  has_image has_hyperlink last_updated  \n",
       "0       yes           yes          1.0  \n",
       "1       yes           yes          1.0  "
      ]
     },
     "execution_count": 2,
     "metadata": {},
     "output_type": "execute_result"
    }
   ],
   "source": [
    "flores_df = load_dataset(\"openlanguagedata/flores_plus\", split='dev').to_pandas()\n",
    "flores_df = flores_df.rename(columns={'iso_15924':'language'}).reset_index()\n",
    "print(flores_df.shape)\n",
    "flores_df.head(2)"
   ]
  },
  {
   "cell_type": "code",
   "execution_count": 3,
   "metadata": {},
   "outputs": [
    {
     "name": "stdout",
     "output_type": "stream",
     "text": [
      "(997, 2)\n"
     ]
    },
    {
     "data": {
      "text/html": [
       "<div>\n",
       "<style scoped>\n",
       "    .dataframe tbody tr th:only-of-type {\n",
       "        vertical-align: middle;\n",
       "    }\n",
       "\n",
       "    .dataframe tbody tr th {\n",
       "        vertical-align: top;\n",
       "    }\n",
       "\n",
       "    .dataframe thead th {\n",
       "        text-align: right;\n",
       "    }\n",
       "</style>\n",
       "<table border=\"1\" class=\"dataframe\">\n",
       "  <thead>\n",
       "    <tr style=\"text-align: right;\">\n",
       "      <th></th>\n",
       "      <th>id</th>\n",
       "      <th>text</th>\n",
       "    </tr>\n",
       "  </thead>\n",
       "  <tbody>\n",
       "    <tr>\n",
       "      <th>54835</th>\n",
       "      <td>0</td>\n",
       "      <td>On Monday, scientists from the Stanford Univer...</td>\n",
       "    </tr>\n",
       "    <tr>\n",
       "      <th>54836</th>\n",
       "      <td>1</td>\n",
       "      <td>Lead researchers say this may bring early dete...</td>\n",
       "    </tr>\n",
       "  </tbody>\n",
       "</table>\n",
       "</div>"
      ],
      "text/plain": [
       "       id                                               text\n",
       "54835   0  On Monday, scientists from the Stanford Univer...\n",
       "54836   1  Lead researchers say this may bring early dete..."
      ]
     },
     "execution_count": 3,
     "metadata": {},
     "output_type": "execute_result"
    }
   ],
   "source": [
    "english = flores_df[flores_df['glottocode']=='stan1293'][['id', 'text']] # ['glottocode']=='stan1293' is English\n",
    "print(english.shape)\n",
    "english.head(2)"
   ]
  },
  {
   "cell_type": "code",
   "execution_count": 4,
   "metadata": {},
   "outputs": [
    {
     "data": {
      "text/html": [
       "<div>\n",
       "<style scoped>\n",
       "    .dataframe tbody tr th:only-of-type {\n",
       "        vertical-align: middle;\n",
       "    }\n",
       "\n",
       "    .dataframe tbody tr th {\n",
       "        vertical-align: top;\n",
       "    }\n",
       "\n",
       "    .dataframe thead th {\n",
       "        text-align: right;\n",
       "    }\n",
       "</style>\n",
       "<table border=\"1\" class=\"dataframe\">\n",
       "  <thead>\n",
       "    <tr style=\"text-align: right;\">\n",
       "      <th></th>\n",
       "      <th>index</th>\n",
       "      <th>id</th>\n",
       "      <th>glottocode</th>\n",
       "      <th>text</th>\n",
       "      <th>topic</th>\n",
       "      <th>language</th>\n",
       "      <th>text2</th>\n",
       "    </tr>\n",
       "  </thead>\n",
       "  <tbody>\n",
       "    <tr>\n",
       "      <th>0</th>\n",
       "      <td>55226</td>\n",
       "      <td>391</td>\n",
       "      <td>stan1293</td>\n",
       "      <td>Sanskrit is a very complex and rich language, ...</td>\n",
       "      <td>Languages/Sanskrit</td>\n",
       "      <td>Latn</td>\n",
       "      <td>Sanskrit is a very complex and rich language, ...</td>\n",
       "    </tr>\n",
       "    <tr>\n",
       "      <th>1</th>\n",
       "      <td>35571</td>\n",
       "      <td>676</td>\n",
       "      <td>bulg1262</td>\n",
       "      <td>Докато планирате, имайте предвид, че макар Южн...</td>\n",
       "      <td>travel, tourism</td>\n",
       "      <td>Cyrl</td>\n",
       "      <td>Keep in mind while planning that although Sout...</td>\n",
       "    </tr>\n",
       "  </tbody>\n",
       "</table>\n",
       "</div>"
      ],
      "text/plain": [
       "   index   id glottocode                                               text  \\\n",
       "0  55226  391   stan1293  Sanskrit is a very complex and rich language, ...   \n",
       "1  35571  676   bulg1262  Докато планирате, имайте предвид, че макар Южн...   \n",
       "\n",
       "                topic language  \\\n",
       "0  Languages/Sanskrit     Latn   \n",
       "1     travel, tourism     Cyrl   \n",
       "\n",
       "                                               text2  \n",
       "0  Sanskrit is a very complex and rich language, ...  \n",
       "1  Keep in mind while planning that although Sout...  "
      ]
     },
     "execution_count": 4,
     "metadata": {},
     "output_type": "execute_result"
    }
   ],
   "source": [
    "lang2eng = flores_df.merge(english, how='inner', on='id')\n",
    "lang2eng = lang2eng[['id', 'glottocode', 'text_x', 'topic', 'language', 'text_y']].sample(100).reset_index()\n",
    "# lang2eng = lang2eng[(lang2eng['text_x'].str.startswith('Kamême, Charles a gue na') | lang2eng['text_x'].str.startswith('Lalaa wondu')) & (lang2eng['language'] == 'Latn')].reset_index()\n",
    "lang2eng.rename(columns={'text_x':'text', 'text_y':'text2'}, inplace=True)\n",
    "lang2eng.head(2)"
   ]
  },
  {
   "cell_type": "markdown",
   "metadata": {},
   "source": [
    "# Try `fertilize`"
   ]
  },
  {
   "cell_type": "code",
   "execution_count": 5,
   "metadata": {},
   "outputs": [
    {
     "name": "stdout",
     "output_type": "stream",
     "text": [
      "Fertility Score: 2.5625\n",
      "Tokens: ['ÐĶ', 'Ð¾Ðº', 'Ð°ÑĤÐ¾', 'ĠÐ¿Ð»Ð°Ð½Ð¸', 'ÑĢÐ°ÑĤ', 'Ðµ', ',', 'ĠÐ¸Ð¼', 'Ð°Ð¹ÑĤÐµ', 'ĠÐ¿ÑĢÐµÐ´', 'Ð²Ð¸Ð´', ',', 'ĠÑĩ', 'Ðµ', 'ĠÐ¼Ð°Ðº', 'Ð°ÑĢ', 'ĠÐ®', 'Ð¶', 'Ð½Ð°', 'ĠÐĲÑĦ', 'ÑĢÐ¸', 'ÐºÐ°', 'ĠÐ´Ð°', 'ĠÐµ', 'ĠÑģÑĤ', 'Ð°Ð±', 'Ð¸Ð»', 'Ð½Ð°', ',', 'ĠÐ½Ðµ', 'ĠÐ²Ñģ', 'Ð¸Ñĩ', 'ÐºÐ¸', 'ĠÑģÑĬ', 'ÑģÐµÐ´', 'Ð½Ð¸', 'ĠÑģÑĤÑĢ', 'Ð°Ð½Ð¸', 'ĠÑģ', 'Ð°', '.']\n"
     ]
    }
   ],
   "source": [
    "text = lang2eng['text'][1]\n",
    "\n",
    "fertility_score, tokens = fertilize(text)\n",
    "print('Fertility Score:', fertility_score)\n",
    "print('Tokens:', tokens)"
   ]
  },
  {
   "cell_type": "code",
   "execution_count": 6,
   "metadata": {},
   "outputs": [
    {
     "name": "stdout",
     "output_type": "stream",
     "text": [
      "Fertility Score: 2.625\n",
      "Tokens: ['▁До', 'ка', 'то', '▁пла', 'ни', 'ра', 'те', ',', '▁има', 'й', 'те', '▁пред', 'вид', ',', '▁че', '▁ма', 'кар', '▁Ю', 'ж', 'на', '▁А', 'фри', 'ка', '▁да', '▁е', '▁ста', 'би', 'л', 'на', ',', '▁не', '▁в', 'си', 'чки', '▁съ', 'се', 'д', 'ни', '▁стра', 'ни', '▁са', '.']\n"
     ]
    }
   ],
   "source": [
    "text = lang2eng['text'][1]\n",
    "tokenizer = AutoTokenizer.from_pretrained('microsoft/Phi-3.5-mini-instruct')\n",
    "\n",
    "fertility_score, tokens = fertilize(text, tokenizer)\n",
    "print('Fertility Score:', fertility_score)\n",
    "print('Tokens:', tokens)"
   ]
  },
  {
   "cell_type": "markdown",
   "metadata": {},
   "source": [
    "# Try `paritize`"
   ]
  },
  {
   "cell_type": "code",
   "execution_count": 7,
   "metadata": {},
   "outputs": [
    {
     "name": "stdout",
     "output_type": "stream",
     "text": [
      "Parity Score: 1.9333333333333333\n"
     ]
    }
   ],
   "source": [
    "text1 = lang2eng['text'][2]\n",
    "text2 = lang2eng['text2'][2]\n",
    "parity_score = paritize(text1, text2)\n",
    "print('Parity Score:', parity_score)"
   ]
  },
  {
   "cell_type": "markdown",
   "metadata": {},
   "source": [
    "# Try `TokenMetrics`"
   ]
  },
  {
   "cell_type": "code",
   "execution_count": 8,
   "metadata": {},
   "outputs": [
    {
     "data": {
      "text/html": [
       "<div>\n",
       "<style scoped>\n",
       "    .dataframe tbody tr th:only-of-type {\n",
       "        vertical-align: middle;\n",
       "    }\n",
       "\n",
       "    .dataframe tbody tr th {\n",
       "        vertical-align: top;\n",
       "    }\n",
       "\n",
       "    .dataframe thead th {\n",
       "        text-align: right;\n",
       "    }\n",
       "</style>\n",
       "<table border=\"1\" class=\"dataframe\">\n",
       "  <thead>\n",
       "    <tr style=\"text-align: right;\">\n",
       "      <th></th>\n",
       "      <th>language</th>\n",
       "      <th>corpus</th>\n",
       "      <th>fertility</th>\n",
       "      <th>tokens</th>\n",
       "    </tr>\n",
       "  </thead>\n",
       "  <tbody>\n",
       "    <tr>\n",
       "      <th>0</th>\n",
       "      <td>Latn</td>\n",
       "      <td>Sanskrit is a very complex and rich language, ...</td>\n",
       "      <td>2.435701</td>\n",
       "      <td>[S, ansk, rit, Ġis, Ġa, Ġvery, Ġcomplex, Ġand,...</td>\n",
       "    </tr>\n",
       "    <tr>\n",
       "      <th>1</th>\n",
       "      <td>Cyrl</td>\n",
       "      <td>Докато планирате, имайте предвид, че макар Южн...</td>\n",
       "      <td>3.598726</td>\n",
       "      <td>[ÐĶ, Ð¾Ðº, Ð°ÑĤÐ¾, ĠÐ¿Ð»Ð°Ð½Ð¸, ÑĢÐ°ÑĤ, Ðµ, ,,...</td>\n",
       "    </tr>\n",
       "    <tr>\n",
       "      <th>2</th>\n",
       "      <td>Olck</td>\n",
       "      <td>ᱯᱨᱚᱠᱟᱥ ᱵᱟᱞᱵ ᱫᱚ ᱟᱨ ᱢᱤᱫ ᱡᱮᱠᱷᱟ ᱵᱚᱫᱚᱞ ᱫᱚᱨᱠᱟᱨ ᱠᱟᱱᱟ᱾...</td>\n",
       "      <td>13.875000</td>\n",
       "      <td>[á, ±, ¯, á, ±, ¨, á, ±, ļ, á, ±, ł, á, ±, Ł, ...</td>\n",
       "    </tr>\n",
       "    <tr>\n",
       "      <th>3</th>\n",
       "      <td>Guru</td>\n",
       "      <td>ਸਮੁੰਦਰੀ ਤੱਟ, ਥੀਮ ਪਾਰਕ ਅਤੇ ਕੈਂਪ ਮੈਦਾਨ ਮਨੋਰੰਜਕ ਯ...</td>\n",
       "      <td>9.000000</td>\n",
       "      <td>[à¨, ¸, à¨, ®, à©, ģ, à©, °, à¨, ¦, à¨, °, à©,...</td>\n",
       "    </tr>\n",
       "    <tr>\n",
       "      <th>4</th>\n",
       "      <td>Arab</td>\n",
       "      <td>وحتى أكثر الصحاري حرارة ممكن ترجع باردة مرة با...</td>\n",
       "      <td>2.394737</td>\n",
       "      <td>[ÙĪØŃ, ØªÙī, ĠØ£ÙĥØ«Ø±, ĠØ§ÙĦØµ, ØŃ, Ø§Ø±ÙĬ, Ġ...</td>\n",
       "    </tr>\n",
       "  </tbody>\n",
       "</table>\n",
       "</div>"
      ],
      "text/plain": [
       "  language                                             corpus  fertility  \\\n",
       "0     Latn  Sanskrit is a very complex and rich language, ...   2.435701   \n",
       "1     Cyrl  Докато планирате, имайте предвид, че макар Южн...   3.598726   \n",
       "2     Olck  ᱯᱨᱚᱠᱟᱥ ᱵᱟᱞᱵ ᱫᱚ ᱟᱨ ᱢᱤᱫ ᱡᱮᱠᱷᱟ ᱵᱚᱫᱚᱞ ᱫᱚᱨᱠᱟᱨ ᱠᱟᱱᱟ᱾...  13.875000   \n",
       "3     Guru  ਸਮੁੰਦਰੀ ਤੱਟ, ਥੀਮ ਪਾਰਕ ਅਤੇ ਕੈਂਪ ਮੈਦਾਨ ਮਨੋਰੰਜਕ ਯ...   9.000000   \n",
       "4     Arab  وحتى أكثر الصحاري حرارة ممكن ترجع باردة مرة با...   2.394737   \n",
       "\n",
       "                                              tokens  \n",
       "0  [S, ansk, rit, Ġis, Ġa, Ġvery, Ġcomplex, Ġand,...  \n",
       "1  [ÐĶ, Ð¾Ðº, Ð°ÑĤÐ¾, ĠÐ¿Ð»Ð°Ð½Ð¸, ÑĢÐ°ÑĤ, Ðµ, ,,...  \n",
       "2  [á, ±, ¯, á, ±, ¨, á, ±, ļ, á, ±, ł, á, ±, Ł, ...  \n",
       "3  [à¨, ¸, à¨, ®, à©, ģ, à©, °, à¨, ¦, à¨, °, à©,...  \n",
       "4  [ÙĪØŃ, ØªÙī, ĠØ£ÙĥØ«Ø±, ĠØ§ÙĦØµ, ØŃ, Ø§Ø±ÙĬ, Ġ...  "
      ]
     },
     "execution_count": 8,
     "metadata": {},
     "output_type": "execute_result"
    }
   ],
   "source": [
    "tokenmetrics = TokenMetrics(lang2eng)\n",
    "scored = tokenmetrics.fertilize('text', 'language')\n",
    "scored.head()"
   ]
  },
  {
   "cell_type": "code",
   "execution_count": 9,
   "metadata": {},
   "outputs": [
    {
     "data": {
      "image/png": "[encoded data removed]",
      "text/plain": [
       "<Figure size 600x400 with 1 Axes>"
      ]
     },
     "metadata": {},
     "output_type": "display_data"
    }
   ],
   "source": [
    "tokenmetrics.visualize_fertilities(figsize=(6, 4), color='blue')"
   ]
  },
  {
   "cell_type": "code",
   "execution_count": 10,
   "metadata": {},
   "outputs": [],
   "source": [
    "tokenmetrics.parities"
   ]
  },
  {
   "cell_type": "code",
   "execution_count": 11,
   "metadata": {},
   "outputs": [
    {
     "data": {
      "text/html": [
       "<div>\n",
       "<style scoped>\n",
       "    .dataframe tbody tr th:only-of-type {\n",
       "        vertical-align: middle;\n",
       "    }\n",
       "\n",
       "    .dataframe tbody tr th {\n",
       "        vertical-align: top;\n",
       "    }\n",
       "\n",
       "    .dataframe thead th {\n",
       "        text-align: right;\n",
       "    }\n",
       "</style>\n",
       "<table border=\"1\" class=\"dataframe\">\n",
       "  <thead>\n",
       "    <tr style=\"text-align: right;\">\n",
       "      <th></th>\n",
       "      <th>text</th>\n",
       "      <th>text2</th>\n",
       "      <th>parity</th>\n",
       "    </tr>\n",
       "  </thead>\n",
       "  <tbody>\n",
       "    <tr>\n",
       "      <th>0</th>\n",
       "      <td>Sanskrit is a very complex and rich language, ...</td>\n",
       "      <td>Sanskrit is a very complex and rich language, ...</td>\n",
       "      <td>1.000000</td>\n",
       "    </tr>\n",
       "    <tr>\n",
       "      <th>1</th>\n",
       "      <td>Докато планирате, имайте предвид, че макар Южн...</td>\n",
       "      <td>Keep in mind while planning that although Sout...</td>\n",
       "      <td>2.411765</td>\n",
       "    </tr>\n",
       "    <tr>\n",
       "      <th>2</th>\n",
       "      <td>Dessa krav är utformade för att skapa ett regl...</td>\n",
       "      <td>These requirements are designed to provide an ...</td>\n",
       "      <td>1.933333</td>\n",
       "    </tr>\n",
       "    <tr>\n",
       "      <th>3</th>\n",
       "      <td>I B&amp;B della fascia più alta naturalmente si fa...</td>\n",
       "      <td>At the top end, B&amp;Bs obviously compete mainly ...</td>\n",
       "      <td>1.650000</td>\n",
       "    </tr>\n",
       "    <tr>\n",
       "      <th>4</th>\n",
       "      <td>ᱯᱨᱚᱠᱟᱥ ᱵᱟᱞᱵ ᱫᱚ ᱟᱨ ᱢᱤᱫ ᱡᱮᱠᱷᱟ ᱵᱚᱫᱚᱞ ᱫᱚᱨᱠᱟᱨ ᱠᱟᱱᱟ᱾...</td>\n",
       "      <td>The light bulb then needs replacing. It is nec...</td>\n",
       "      <td>11.684211</td>\n",
       "    </tr>\n",
       "    <tr>\n",
       "      <th>...</th>\n",
       "      <td>...</td>\n",
       "      <td>...</td>\n",
       "      <td>...</td>\n",
       "    </tr>\n",
       "    <tr>\n",
       "      <th>95</th>\n",
       "      <td>Diloja ni diloja mu ikoka dyazala ibhuka ya tu...</td>\n",
       "      <td>Every corner store is filled with a confusing ...</td>\n",
       "      <td>2.730769</td>\n",
       "    </tr>\n",
       "    <tr>\n",
       "      <th>96</th>\n",
       "      <td>Ang parehong golf ug rugby gikatakda nga mobal...</td>\n",
       "      <td>Both golf and rugby are set to return to the O...</td>\n",
       "      <td>1.461538</td>\n",
       "    </tr>\n",
       "    <tr>\n",
       "      <th>97</th>\n",
       "      <td>Ngalendlela ngeke udzinwe kakhulu. Khumbula ku...</td>\n",
       "      <td>This way, you will tire yourself out as little...</td>\n",
       "      <td>1.742857</td>\n",
       "    </tr>\n",
       "    <tr>\n",
       "      <th>98</th>\n",
       "      <td>Ishirahamwe Virgin ryaguze \"banki nziza\" ya No...</td>\n",
       "      <td>Virgin have only purchased the ‘good bank’ of ...</td>\n",
       "      <td>2.473684</td>\n",
       "    </tr>\n",
       "    <tr>\n",
       "      <th>99</th>\n",
       "      <td>Segun iti Ansa, “maseknan dagiti polis iti pan...</td>\n",
       "      <td>According to Ansa, \"police were concerned by a...</td>\n",
       "      <td>2.551724</td>\n",
       "    </tr>\n",
       "  </tbody>\n",
       "</table>\n",
       "<p>100 rows × 3 columns</p>\n",
       "</div>"
      ],
      "text/plain": [
       "                                                 text  \\\n",
       "0   Sanskrit is a very complex and rich language, ...   \n",
       "1   Докато планирате, имайте предвид, че макар Южн...   \n",
       "2   Dessa krav är utformade för att skapa ett regl...   \n",
       "3   I B&B della fascia più alta naturalmente si fa...   \n",
       "4   ᱯᱨᱚᱠᱟᱥ ᱵᱟᱞᱵ ᱫᱚ ᱟᱨ ᱢᱤᱫ ᱡᱮᱠᱷᱟ ᱵᱚᱫᱚᱞ ᱫᱚᱨᱠᱟᱨ ᱠᱟᱱᱟ᱾...   \n",
       "..                                                ...   \n",
       "95  Diloja ni diloja mu ikoka dyazala ibhuka ya tu...   \n",
       "96  Ang parehong golf ug rugby gikatakda nga mobal...   \n",
       "97  Ngalendlela ngeke udzinwe kakhulu. Khumbula ku...   \n",
       "98  Ishirahamwe Virgin ryaguze \"banki nziza\" ya No...   \n",
       "99  Segun iti Ansa, “maseknan dagiti polis iti pan...   \n",
       "\n",
       "                                                text2     parity  \n",
       "0   Sanskrit is a very complex and rich language, ...   1.000000  \n",
       "1   Keep in mind while planning that although Sout...   2.411765  \n",
       "2   These requirements are designed to provide an ...   1.933333  \n",
       "3   At the top end, B&Bs obviously compete mainly ...   1.650000  \n",
       "4   The light bulb then needs replacing. It is nec...  11.684211  \n",
       "..                                                ...        ...  \n",
       "95  Every corner store is filled with a confusing ...   2.730769  \n",
       "96  Both golf and rugby are set to return to the O...   1.461538  \n",
       "97  This way, you will tire yourself out as little...   1.742857  \n",
       "98  Virgin have only purchased the ‘good bank’ of ...   2.473684  \n",
       "99  According to Ansa, \"police were concerned by a...   2.551724  \n",
       "\n",
       "[100 rows x 3 columns]"
      ]
     },
     "execution_count": 11,
     "metadata": {},
     "output_type": "execute_result"
    }
   ],
   "source": [
    "tokenmetrics.paritize(text_col1='text', text_col2='text2')"
   ]
  },
  {
   "cell_type": "code",
   "execution_count": 12,
   "metadata": {},
   "outputs": [
    {
     "data": {
      "text/html": [
       "<div>\n",
       "<style scoped>\n",
       "    .dataframe tbody tr th:only-of-type {\n",
       "        vertical-align: middle;\n",
       "    }\n",
       "\n",
       "    .dataframe tbody tr th {\n",
       "        vertical-align: top;\n",
       "    }\n",
       "\n",
       "    .dataframe thead th {\n",
       "        text-align: right;\n",
       "    }\n",
       "</style>\n",
       "<table border=\"1\" class=\"dataframe\">\n",
       "  <thead>\n",
       "    <tr style=\"text-align: right;\">\n",
       "      <th></th>\n",
       "      <th>text</th>\n",
       "      <th>text2</th>\n",
       "      <th>parity</th>\n",
       "    </tr>\n",
       "  </thead>\n",
       "  <tbody>\n",
       "    <tr>\n",
       "      <th>0</th>\n",
       "      <td>Sanskrit is a very complex and rich language, ...</td>\n",
       "      <td>Sanskrit is a very complex and rich language, ...</td>\n",
       "      <td>1.000000</td>\n",
       "    </tr>\n",
       "    <tr>\n",
       "      <th>1</th>\n",
       "      <td>Докато планирате, имайте предвид, че макар Южн...</td>\n",
       "      <td>Keep in mind while planning that although Sout...</td>\n",
       "      <td>2.411765</td>\n",
       "    </tr>\n",
       "    <tr>\n",
       "      <th>2</th>\n",
       "      <td>Dessa krav är utformade för att skapa ett regl...</td>\n",
       "      <td>These requirements are designed to provide an ...</td>\n",
       "      <td>1.933333</td>\n",
       "    </tr>\n",
       "    <tr>\n",
       "      <th>3</th>\n",
       "      <td>I B&amp;B della fascia più alta naturalmente si fa...</td>\n",
       "      <td>At the top end, B&amp;Bs obviously compete mainly ...</td>\n",
       "      <td>1.650000</td>\n",
       "    </tr>\n",
       "    <tr>\n",
       "      <th>4</th>\n",
       "      <td>ᱯᱨᱚᱠᱟᱥ ᱵᱟᱞᱵ ᱫᱚ ᱟᱨ ᱢᱤᱫ ᱡᱮᱠᱷᱟ ᱵᱚᱫᱚᱞ ᱫᱚᱨᱠᱟᱨ ᱠᱟᱱᱟ᱾...</td>\n",
       "      <td>The light bulb then needs replacing. It is nec...</td>\n",
       "      <td>11.684211</td>\n",
       "    </tr>\n",
       "    <tr>\n",
       "      <th>...</th>\n",
       "      <td>...</td>\n",
       "      <td>...</td>\n",
       "      <td>...</td>\n",
       "    </tr>\n",
       "    <tr>\n",
       "      <th>95</th>\n",
       "      <td>Diloja ni diloja mu ikoka dyazala ibhuka ya tu...</td>\n",
       "      <td>Every corner store is filled with a confusing ...</td>\n",
       "      <td>2.730769</td>\n",
       "    </tr>\n",
       "    <tr>\n",
       "      <th>96</th>\n",
       "      <td>Ang parehong golf ug rugby gikatakda nga mobal...</td>\n",
       "      <td>Both golf and rugby are set to return to the O...</td>\n",
       "      <td>1.461538</td>\n",
       "    </tr>\n",
       "    <tr>\n",
       "      <th>97</th>\n",
       "      <td>Ngalendlela ngeke udzinwe kakhulu. Khumbula ku...</td>\n",
       "      <td>This way, you will tire yourself out as little...</td>\n",
       "      <td>1.742857</td>\n",
       "    </tr>\n",
       "    <tr>\n",
       "      <th>98</th>\n",
       "      <td>Ishirahamwe Virgin ryaguze \"banki nziza\" ya No...</td>\n",
       "      <td>Virgin have only purchased the ‘good bank’ of ...</td>\n",
       "      <td>2.473684</td>\n",
       "    </tr>\n",
       "    <tr>\n",
       "      <th>99</th>\n",
       "      <td>Segun iti Ansa, “maseknan dagiti polis iti pan...</td>\n",
       "      <td>According to Ansa, \"police were concerned by a...</td>\n",
       "      <td>2.551724</td>\n",
       "    </tr>\n",
       "  </tbody>\n",
       "</table>\n",
       "<p>100 rows × 3 columns</p>\n",
       "</div>"
      ],
      "text/plain": [
       "                                                 text  \\\n",
       "0   Sanskrit is a very complex and rich language, ...   \n",
       "1   Докато планирате, имайте предвид, че макар Южн...   \n",
       "2   Dessa krav är utformade för att skapa ett regl...   \n",
       "3   I B&B della fascia più alta naturalmente si fa...   \n",
       "4   ᱯᱨᱚᱠᱟᱥ ᱵᱟᱞᱵ ᱫᱚ ᱟᱨ ᱢᱤᱫ ᱡᱮᱠᱷᱟ ᱵᱚᱫᱚᱞ ᱫᱚᱨᱠᱟᱨ ᱠᱟᱱᱟ᱾...   \n",
       "..                                                ...   \n",
       "95  Diloja ni diloja mu ikoka dyazala ibhuka ya tu...   \n",
       "96  Ang parehong golf ug rugby gikatakda nga mobal...   \n",
       "97  Ngalendlela ngeke udzinwe kakhulu. Khumbula ku...   \n",
       "98  Ishirahamwe Virgin ryaguze \"banki nziza\" ya No...   \n",
       "99  Segun iti Ansa, “maseknan dagiti polis iti pan...   \n",
       "\n",
       "                                                text2     parity  \n",
       "0   Sanskrit is a very complex and rich language, ...   1.000000  \n",
       "1   Keep in mind while planning that although Sout...   2.411765  \n",
       "2   These requirements are designed to provide an ...   1.933333  \n",
       "3   At the top end, B&Bs obviously compete mainly ...   1.650000  \n",
       "4   The light bulb then needs replacing. It is nec...  11.684211  \n",
       "..                                                ...        ...  \n",
       "95  Every corner store is filled with a confusing ...   2.730769  \n",
       "96  Both golf and rugby are set to return to the O...   1.461538  \n",
       "97  This way, you will tire yourself out as little...   1.742857  \n",
       "98  Virgin have only purchased the ‘good bank’ of ...   2.473684  \n",
       "99  According to Ansa, \"police were concerned by a...   2.551724  \n",
       "\n",
       "[100 rows x 3 columns]"
      ]
     },
     "execution_count": 12,
     "metadata": {},
     "output_type": "execute_result"
    }
   ],
   "source": [
    "tokenmetrics.parities"
   ]
  }
 ],
 "metadata": {
  "kernelspec": {
   "display_name": "bill_gates",
   "language": "python",
   "name": "python3"
  },
  "language_info": {
   "codemirror_mode": {
    "name": "ipython",
    "version": 3
   },
   "file_extension": ".py",
   "mimetype": "text/x-python",
   "name": "python",
   "nbconvert_exporter": "python",
   "pygments_lexer": "ipython3",
   "version": "3.10.17"
  }
 },
 "nbformat": 4,
 "nbformat_minor": 2
}
